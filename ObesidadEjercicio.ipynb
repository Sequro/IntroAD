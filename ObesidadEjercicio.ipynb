{
  "nbformat": 4,
  "nbformat_minor": 0,
  "metadata": {
    "colab": {
      "provenance": [],
      "authorship_tag": "ABX9TyOu8aDjkWOXP5u12ad6KgFt",
      "include_colab_link": true
    },
    "kernelspec": {
      "name": "python3",
      "display_name": "Python 3"
    },
    "language_info": {
      "name": "python"
    }
  },
  "cells": [
    {
      "cell_type": "markdown",
      "metadata": {
        "id": "view-in-github",
        "colab_type": "text"
      },
      "source": [
        "<a href=\"https://colab.research.google.com/github/Sequro/IntroAD/blob/main/ObesidadEjercicio.ipynb\" target=\"_parent\"><img src=\"https://colab.research.google.com/assets/colab-badge.svg\" alt=\"Open In Colab\"/></a>"
      ]
    },
    {
      "cell_type": "code",
      "execution_count": 9,
      "metadata": {
        "colab": {
          "base_uri": "https://localhost:8080/"
        },
        "id": "5gzs0HX8KmZC",
        "outputId": "f29b8b84-8596-46d1-8d35-3490345982ee"
      },
      "outputs": [
        {
          "output_type": "stream",
          "name": "stdout",
          "text": [
            "Nivel de Obesidad por Genero: \n",
            "                     Num de Mujeres  Num de Hombres\n",
            "NObeyesdad                                         \n",
            "Insufficient_Weight             173              99\n",
            "Normal_Weight                   141             146\n",
            "Obesity_Type_I                  156             195\n",
            "Obesity_Type_II                   2             295\n",
            "Obesity_Type_III                323               1\n",
            "Overweight_Level_I              145             145\n",
            "Overweight_Level_II             103             187\n"
          ]
        }
      ],
      "source": [
        "import pandas as pd\n",
        "\n",
        "df= pd.read_csv('Obesity.csv')\n",
        "\n",
        "registro_general = df.loc[(df['Gender'].isin(['Male', 'Female'])) & (df['NObeyesdad'].notnull())]\n",
        "\n",
        "conteo_obesidad_genero = registro_general.groupby(['NObeyesdad', 'Gender']).size().unstack(fill_value=0)\n",
        "\n",
        "conteo_obesidad_genero.columns = ['Num de Mujeres', 'Num de Hombres']\n",
        "\n",
        "print('Nivel de Obesidad por Genero: ')\n",
        "print(conteo_obesidad_genero)"
      ]
    },
    {
      "cell_type": "code",
      "source": [
        "registro_general = df.loc[(df['Gender'].isin(['Male', 'Female'])) & (df['NObeyesdad'].notnull())]\n",
        "\n",
        "promedio_peso_obesidad_genero = registro_general.groupby(['NObeyesdad', 'Gender'])['Weight'].mean().unstack(fill_value=0)\n",
        "promedio_peso_obesidad_genero = promedio_peso_obesidad_genero.round(2)\n",
        "promedio_peso_obesidad_genero.columns = ['Promedio de peso Mujeres', 'Promedio de peso Hombres']\n",
        "\n",
        "print('Promedio de Obesidad por Genero: ')\n",
        "print(promedio_peso_obesidad_genero)"
      ],
      "metadata": {
        "colab": {
          "base_uri": "https://localhost:8080/"
        },
        "id": "Io2LpYQAL_Y-",
        "outputId": "cd6ef7f9-428b-43ed-dc5a-be2c4ba2e39e"
      },
      "execution_count": 22,
      "outputs": [
        {
          "output_type": "stream",
          "name": "stdout",
          "text": [
            "Promedio de Obesidad por Genero: \n",
            "                     Promedio de peso Mujeres  Promedio de peso Hombres\n",
            "NObeyesdad                                                             \n",
            "Insufficient_Weight                     46.69                     55.53\n",
            "Normal_Weight                           56.42                     67.70\n",
            "Obesity_Type_I                          82.29                    101.33\n",
            "Obesity_Type_II                         96.75                    115.43\n",
            "Obesity_Type_III                       120.78                    173.00\n",
            "Overweight_Level_I                      69.58                     78.95\n",
            "Overweight_Level_II                     74.54                     86.24\n"
          ]
        }
      ]
    },
    {
      "cell_type": "code",
      "source": [
        "historial_familiar = df[df['family_history_with_overweight'] == 'yes']\n",
        "\n",
        "total_historial_familiar = len(historial_familiar)\n",
        "\n",
        "porcetaje_obesidad = (historial_familiar['NObeyesdad'].value_counts()/total_historial_familiar)*100\n",
        "\n",
        "porcetaje_obesidad_df = porcetaje_obesidad.reset_index()\n",
        "\n",
        "porcetaje_obesidad_df.columns= ['Nivel de Obesidad', 'Porcentaje']\n",
        "\n",
        "print('Porcentajes de nivel de obesidad con historial familiar')\n",
        "print(porcetaje_obesidad_df)"
      ],
      "metadata": {
        "colab": {
          "base_uri": "https://localhost:8080/"
        },
        "id": "5iVEGDbBRf4i",
        "outputId": "10333a91-0131-4246-fbb1-ea54734290e6"
      },
      "execution_count": 23,
      "outputs": [
        {
          "output_type": "stream",
          "name": "stdout",
          "text": [
            "Porcentajes de nivel de obesidad con historial familiar\n",
            "     Nivel de Obesidad  Porcentaje\n",
            "0       Obesity_Type_I   19.930475\n",
            "1     Obesity_Type_III   18.771727\n",
            "2      Obesity_Type_II   17.149479\n",
            "3  Overweight_Level_II   15.758980\n",
            "4   Overweight_Level_I   12.108922\n",
            "5        Normal_Weight    8.980301\n",
            "6  Insufficient_Weight    7.300116\n"
          ]
        }
      ]
    },
    {
      "cell_type": "code",
      "source": [
        "df = pd.read_csv('Obesity.csv')\n",
        "data = pd.DataFrame(df)\n",
        "dataFiltered = data[['Gender','NObeyesdad', 'Weight']]\n",
        "\n",
        "dataFiltered = dataFiltered.sort_values('Weight', ascending=False)\n",
        "\n",
        "print(dataFiltered.head(5))"
      ],
      "metadata": {
        "colab": {
          "base_uri": "https://localhost:8080/"
        },
        "id": "wJKlPRUjVoSo",
        "outputId": "f31ea4dc-46bd-4aea-a63e-a8f02969b117"
      },
      "execution_count": 26,
      "outputs": [
        {
          "output_type": "stream",
          "name": "stdout",
          "text": [
            "      Gender        NObeyesdad      Weight\n",
            "344     Male  Obesity_Type_III  173.000000\n",
            "502   Female  Obesity_Type_III  165.057269\n",
            "1898  Female  Obesity_Type_III  160.935351\n",
            "1910  Female  Obesity_Type_III  160.639405\n",
            "1838  Female  Obesity_Type_III  155.872093\n"
          ]
        }
      ]
    },
    {
      "cell_type": "code",
      "source": [
        "obesity_levels = ['Insufficient_Weight',\n",
        "                  'Normal_Weight',\n",
        "                  'Overweight_Level_I',\n",
        "                  'Overweight_Level_II',\n",
        "                  'Obesity_Type_I',\n",
        "                  'Obesity_Type_II',\n",
        "                  'Obesity_Type_III']\n",
        "\n",
        "df['NObeyesdad']=pd.Categorical(df['NObeyesdad'], categories=obesity_levels, ordered=True)\n",
        "\n",
        "promedio_consumo_agua = df.groupby(['NObeyesdad'])['FAF'].mean()\n",
        "\n",
        "print('Promedio de cantida de ejercicio por nivel de obesidad: ')\n",
        "print(promedio_consumo_agua)"
      ],
      "metadata": {
        "colab": {
          "base_uri": "https://localhost:8080/"
        },
        "id": "DF1Gxo_bX-6_",
        "outputId": "f8b22a5e-48c1-44df-9ac2-a942565fd948"
      },
      "execution_count": 34,
      "outputs": [
        {
          "output_type": "stream",
          "name": "stdout",
          "text": [
            "Promedio de cantida de ejercicio por nivel de obesidad: \n",
            "NObeyesdad\n",
            "Insufficient_Weight    1.250131\n",
            "Normal_Weight          1.247387\n",
            "Overweight_Level_I          NaN\n",
            "Overweight_Level_II         NaN\n",
            "Obesity_Type_I         0.986748\n",
            "Obesity_Type_II        0.971857\n",
            "Obesity_Type_III       0.664817\n",
            "Name: FAF, dtype: float64\n"
          ]
        },
        {
          "output_type": "stream",
          "name": "stderr",
          "text": [
            "<ipython-input-34-623de2e6119d>:11: FutureWarning: The default of observed=False is deprecated and will be changed to True in a future version of pandas. Pass observed=False to retain current behavior or observed=True to adopt the future default and silence this warning.\n",
            "  promedio_consumo_agua = df.groupby(['NObeyesdad'])['FAF'].mean()\n"
          ]
        }
      ]
    },
    {
      "cell_type": "markdown",
      "source": [
        "Grupo 03 (Sebastian Quiros Rodriguez, Joseph Quintana Hernández)"
      ],
      "metadata": {
        "id": "kYo5GfAPw_kY"
      }
    },
    {
      "cell_type": "code",
      "source": [
        "dcr= pd.read_csv('climate-change_cri.csv')\n",
        "data = pd.DataFrame(dcr)\n",
        "\n",
        "area_levels = ['Marine protected areas (% of territorial waters)',\n",
        "                  'Terrestrial protected areas (% of total land area)',\n",
        "                  'Forest area (% of land area)',\n",
        "                  'Agricultural land (% of land area)',\n",
        "               'Arable land (% of land area)']\n",
        "\n",
        "dcr['Indicator Name']=pd.Categorical(dcr['Indicator Name'], categories=area_levels, ordered=True)\n",
        "\n",
        "porcentaje_area = dcr.groupby(['Indicator Name'])['Value'].mean()\n",
        "\n",
        "porcentaje_area"
      ],
      "metadata": {
        "colab": {
          "base_uri": "https://localhost:8080/",
          "height": 327
        },
        "id": "wGLaXJdzbVqZ",
        "outputId": "57306122-1ffb-4c07-f3d4-b8df0faadcaf"
      },
      "execution_count": 45,
      "outputs": [
        {
          "output_type": "stream",
          "name": "stderr",
          "text": [
            "<ipython-input-45-262e6639bf00>:12: FutureWarning: The default of observed=False is deprecated and will be changed to True in a future version of pandas. Pass observed=False to retain current behavior or observed=True to adopt the future default and silence this warning.\n",
            "  porcentaje_area = dcr.groupby(['Indicator Name'])['Value'].mean()\n"
          ]
        },
        {
          "output_type": "execute_result",
          "data": {
            "text/plain": [
              "Indicator Name\n",
              "Marine protected areas (% of territorial waters)       5.646278\n",
              "Terrestrial protected areas (% of total land area)    27.788718\n",
              "Forest area (% of land area)                          56.929287\n",
              "Agricultural land (% of land area)                    38.967726\n",
              "Arable land (% of land area)                           4.971811\n",
              "Name: Value, dtype: float64"
            ],
            "text/html": [
              "<div>\n",
              "<style scoped>\n",
              "    .dataframe tbody tr th:only-of-type {\n",
              "        vertical-align: middle;\n",
              "    }\n",
              "\n",
              "    .dataframe tbody tr th {\n",
              "        vertical-align: top;\n",
              "    }\n",
              "\n",
              "    .dataframe thead th {\n",
              "        text-align: right;\n",
              "    }\n",
              "</style>\n",
              "<table border=\"1\" class=\"dataframe\">\n",
              "  <thead>\n",
              "    <tr style=\"text-align: right;\">\n",
              "      <th></th>\n",
              "      <th>Value</th>\n",
              "    </tr>\n",
              "    <tr>\n",
              "      <th>Indicator Name</th>\n",
              "      <th></th>\n",
              "    </tr>\n",
              "  </thead>\n",
              "  <tbody>\n",
              "    <tr>\n",
              "      <th>Marine protected areas (% of territorial waters)</th>\n",
              "      <td>5.646278</td>\n",
              "    </tr>\n",
              "    <tr>\n",
              "      <th>Terrestrial protected areas (% of total land area)</th>\n",
              "      <td>27.788718</td>\n",
              "    </tr>\n",
              "    <tr>\n",
              "      <th>Forest area (% of land area)</th>\n",
              "      <td>56.929287</td>\n",
              "    </tr>\n",
              "    <tr>\n",
              "      <th>Agricultural land (% of land area)</th>\n",
              "      <td>38.967726</td>\n",
              "    </tr>\n",
              "    <tr>\n",
              "      <th>Arable land (% of land area)</th>\n",
              "      <td>4.971811</td>\n",
              "    </tr>\n",
              "  </tbody>\n",
              "</table>\n",
              "</div><br><label><b>dtype:</b> float64</label>"
            ]
          },
          "metadata": {},
          "execution_count": 45
        }
      ]
    }
  ]
}